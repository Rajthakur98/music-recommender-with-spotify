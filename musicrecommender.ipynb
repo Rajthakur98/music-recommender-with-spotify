{
 "cells": [
  {
   "cell_type": "code",
   "execution_count": 3,
   "id": "e8f91735",
   "metadata": {},
   "outputs": [
    {
     "name": "stderr",
     "output_type": "stream",
     "text": [
      "2025-07-18 10:13:35.999 WARNING streamlit.runtime.caching.cache_data_api: No runtime found, using MemoryCacheStorageManager\n"
     ]
    }
   ],
   "source": [
    "import streamlit as st\n",
    "import pandas as pd\n",
    "from sklearn.model_selection import train_test_split\n",
    "from sklearn.cluster import KMeans\n",
    "from sklearn.decomposition import PCA\n",
    "from sklearn.metrics.pairwise import cosine_similarity\n",
    "import numpy as np\n",
    "from sklearn.preprocessing import StandardScaler, LabelEncoder\n",
    "\n",
    "\n",
    "# Load and preprocess dataset\n",
    "@st.cache_data\n",
    "def load_data():\n",
    "    df = pd.read_csv(\"spotify_dataset.csv\")\n",
    "    df = df.sample(n=5000, random_state=42).reset_index(drop=True)\n",
    "\n",
    "    # Remove regional genres\n",
    "    for genre in ['kollywood', 'tollywood', 'mollywood', 'sandalwood']:\n",
    "        df = df[~df['Genre'].str.contains(genre, case=False, na=False)]\n",
    "\n",
    "    df_encoded = df.copy()\n",
    "    categorical_cols = ['Track Name', 'Artist(s)', 'Album', 'Release Date', 'Genre']\n",
    "    le = LabelEncoder()\n",
    "    for col in categorical_cols:\n",
    "        df_encoded[col] = le.fit_transform(df_encoded[col].astype(str))\n",
    "\n",
    "    numerical_features = categorical_cols\n",
    "    scaler = StandardScaler()\n",
    "    df_scaled = scaler.fit_transform(df_encoded[numerical_features])\n",
    "    df_scaled = pd.DataFrame(df_scaled, columns=numerical_features)\n",
    "\n",
    " # KMeans clustering\n",
    "    optimal_k = 5\n",
    "    kmeans = KMeans(n_clusters=optimal_k, random_state=42)\n",
    "    df[\"Cluster\"] = kmeans.fit_predict(df_scaled)\n",
    "\n",
    "    return df, df_scaled\n",
    "\n",
    "# Song recommendation logic\n",
    "def recommend_songs(song_name, df, num_recommendations=5):\n",
    "    try:\n",
    "        song_cluster = df[df[\"Track Name\"] == song_name][\"Cluster\"].values[0]\n",
    "        same_cluster_songs = df[df[\"Cluster\"] == song_cluster]\n",
    "        song_index = same_cluster_songs[same_cluster_songs[\"Track Name\"] == song_name].index[0]\n",
    "        cluster_features = same_cluster_songs.select_dtypes(include=['int64', 'float64'])\n",
    "        similarity = cosine_similarity(cluster_features, cluster_features)\n",
    "        similar_songs = np.argsort(similarity[song_index])[-(num_recommendations + 1):-1][::-1]\n",
    "        recommendations = same_cluster_songs.iloc[similar_songs][[\"Track Name\", \"Genre\", \"Artist(s)\"]]\n",
    "        return recommendations\n",
    "    except Exception as e:\n",
    "        st.error(f\"Error: {e}\")\n",
    "        return pd.DataFrame(columns=[\"Track Name\", \"Genre\", \"Artist(s)\"])\n",
    "# Streamlit UI\n",
    "def main():\n",
    "    st.title(\"🎧 Spotify Song Recommender\")\n",
    "    st.write(\"Get song recommendations based on your favorite track!\")\n",
    "\n",
    "    df, df_scaled = load_data()\n",
    "    unique_tracks = sorted(df[\"Track Name\"].unique())\n",
    "\n",
    "    selected_song = st.selectbox(\"Select a song:\", unique_tracks)\n",
    "    num_rec = st.slider(\"Number of recommendations:\", 1, 10, 5)\n",
    "\n",
    "    if st.button(\"Recommend\"):\n",
    "        recommendations = recommend_songs(selected_song, df, num_recommendations=num_rec)\n",
    "        if not recommendations.empty:\n",
    "            st.subheader(f\"Songs similar to: {selected_song}\")\n",
    "            st.dataframe(recommendations)\n",
    "        else:\n",
    "            st.warning(\"No recommendations found.\")\n",
    "    else:\n",
    "        st.warning(\"please select a song first.\")"
   ]
  }
 ],
 "metadata": {
  "kernelspec": {
   "display_name": "Python 3",
   "language": "python",
   "name": "python3"
  },
  "language_info": {
   "codemirror_mode": {
    "name": "ipython",
    "version": 3
   },
   "file_extension": ".py",
   "mimetype": "text/x-python",
   "name": "python",
   "nbconvert_exporter": "python",
   "pygments_lexer": "ipython3",
   "version": "3.12.4"
  }
 },
 "nbformat": 4,
 "nbformat_minor": 5
}
